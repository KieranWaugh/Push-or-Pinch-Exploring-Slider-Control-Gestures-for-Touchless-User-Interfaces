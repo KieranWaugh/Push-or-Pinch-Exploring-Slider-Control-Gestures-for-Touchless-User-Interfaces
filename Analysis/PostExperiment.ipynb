{
 "cells": [
  {
   "cell_type": "markdown",
   "id": "ed00c704-43a1-463c-a850-745d6bcfbe69",
   "metadata": {},
   "source": [
    "# Post-Experiment Survey"
   ]
  },
  {
   "cell_type": "code",
   "execution_count": 44,
   "id": "e61e5672-bfe3-4639-94a5-6db0c78fe7cc",
   "metadata": {},
   "outputs": [],
   "source": [
    "import glob\n",
    "import matplotlib.pyplot as plt\n",
    "import numpy as np\n",
    "import pandas as pd\n",
    "import pingouin as pg\n",
    "import plot_likert\n",
    "import scikit_posthocs as ph\n",
    "import scipy.stats as stats\n",
    "import seaborn as sns\n",
    "\n",
    "%run ./Plots.ipynb\n",
    "\n",
    "sns.set_context(\"notebook\")\n",
    "sns.set_style(\"whitegrid\")\n",
    "\n",
    "plt.rcParams['figure.dpi'] = 120\n",
    "plt.rcParams['axes.linewidth'] = 0.5\n",
    "plt.rcParams['grid.linewidth'] = 0.5\n",
    "plt.rcParams['patch.linewidth'] = 0.0\n",
    "\n",
    "palette = sns.color_palette(\"magma\", 4)"
   ]
  },
  {
   "cell_type": "markdown",
   "id": "3fedf916-4b26-40d1-a340-36b8be806f85",
   "metadata": {},
   "source": [
    "# 1. Read Data"
   ]
  },
  {
   "cell_type": "code",
   "execution_count": 183,
   "id": "9134050b-aaf4-4385-a805-4b2843cc0c00",
   "metadata": {},
   "outputs": [
    {
     "name": "stdout",
     "output_type": "stream",
     "text": [
      "Read data from 5 participants\n"
     ]
    }
   ],
   "source": [
    "# Read raw data\n",
    "df = pd.read_excel(\"PostExperiment.xlsx\")\n",
    "\n",
    "# Drop unused columns\n",
    "df.drop(df.filter(regex='Start time').columns, axis=1, inplace=True)\n",
    "df.drop(df.filter(regex='Completion time').columns, axis=1, inplace=True)\n",
    "df.drop(df.filter(regex='Email').columns, axis=1, inplace=True)\n",
    "df.drop(df.filter(regex='Name').columns, axis=1, inplace=True)\n",
    "\n",
    "# Rename columns\n",
    "df.columns = [\"Row\", \"Participant\", \"RankFavourite\", \"LeastFavourite\", \"MostFavourite\", \"RankEase\", \"LeastEasy\", \"MostEasy\"]\n",
    "\n",
    "n_p = len(df.Participant.unique())\n",
    "conditions = [\"AirTouch\", \"Dwell\", \"Pinch\", \"PinchAnywhere\"]\n",
    "\n",
    "print(\"Read data from {} participants\".format(n_p,))"
   ]
  },
  {
   "cell_type": "markdown",
   "id": "bfd827ba-26c2-4d0a-b4c7-dfb41b291c75",
   "metadata": {},
   "source": [
    "# 2. Preference Ranks"
   ]
  },
  {
   "cell_type": "code",
   "execution_count": 212,
   "id": "f015b65c-3227-4413-b630-d7df6a4734d8",
   "metadata": {},
   "outputs": [],
   "source": [
    "# Split ranks into their own columns\n",
    "p = 0\n",
    "ranks = pd.DataFrame(columns=[\"Participant\", \"Technique\", \"Rank\"])\n",
    "ranks_airtouch = []\n",
    "ranks_dwell = []\n",
    "ranks_pinch = []\n",
    "ranks_pinchany = []\n",
    "\n",
    "for row in df.RankFavourite:\n",
    "    p += 1\n",
    "    \n",
    "    order = row.split(\";\")[0:4]\n",
    "    \n",
    "    if p == 1:\n",
    "        order.reverse()\n",
    "    \n",
    "    # Place ranks into the `ranks` data frame\n",
    "    airtouch = pd.Series([p, \"AirTouch\", order.index(\"Touch In The Air\") + 1], index=ranks.columns)\n",
    "    dwell    = pd.Series([p, \"Dwell\", order.index(\"Dwell\") + 1], index=ranks.columns)\n",
    "    pinch    = pd.Series([p, \"Pinch\", order.index(\"Pinch on Circle\") + 1], index=ranks.columns)\n",
    "    pinchany = pd.Series([p, \"PinchAnywhere\", order.index(\"Pinch Anywhere\") + 1], index=ranks.columns)\n",
    "    \n",
    "    ranks = ranks.append(airtouch, ignore_index=True)\n",
    "    ranks = ranks.append(dwell, ignore_index=True)\n",
    "    ranks = ranks.append(pinch, ignore_index=True)\n",
    "    ranks = ranks.append(pinchany, ignore_index=True)\n",
    "    \n",
    "    # Build paired rank lists as well\n",
    "    ranks_airtouch += [order.index(\"Touch In The Air\") + 1]\n",
    "    ranks_dwell += [order.index(\"Dwell\") + 1]\n",
    "    ranks_pinch += [order.index(\"Pinch on Circle\") + 1]\n",
    "    ranks_pinchany += [order.index(\"Pinch Anywhere\") + 1]\n",
    "    \n",
    "rank_counts = ranks.groupby([\"Technique\", \"Rank\"]).count().reset_index()"
   ]
  },
  {
   "cell_type": "code",
   "execution_count": 213,
   "id": "fd4f6e95-df41-4837-abd5-b8cae73b19aa",
   "metadata": {},
   "outputs": [
    {
     "data": {
      "text/plain": [
       "FriedmanchisquareResult(statistic=4.920000000000002, pvalue=0.1777497439819156)"
      ]
     },
     "execution_count": 213,
     "metadata": {},
     "output_type": "execute_result"
    }
   ],
   "source": [
    "stats.friedmanchisquare(ranks_airtouch, ranks_dwell, ranks_pinch, ranks_pinchany)"
   ]
  },
  {
   "cell_type": "code",
   "execution_count": 214,
   "id": "3bd7d917-5e35-43f2-881f-872826d26bf5",
   "metadata": {},
   "outputs": [
    {
     "data": {
      "image/png": "[encoded data removed]",
      "text/plain": [
       "<Figure size 840x360 with 1 Axes>"
      ]
     },
     "metadata": {},
     "output_type": "display_data"
    }
   ],
   "source": [
    "fig, axis = plt.subplots(1, figsize=(7, 3))\n",
    "\n",
    "offsets = {\"AirTouch\": 0, \"Dwell\": 0, \"Pinch\": 0, \"PinchAnywhere\": 0}\n",
    "\n",
    "# For ranks 1 to 4...\n",
    "for r in range(1, 5):\n",
    "    rank_data = rank_counts[rank_counts.Rank == r]\n",
    "    \n",
    "    # For each technique...\n",
    "    for t in rank_data.Technique:\n",
    "        # Count number of responses given\n",
    "        n = int(rank_data[rank_data.Technique == t].Participant)\n",
    "        \n",
    "        # Draw an offset horizontal bar\n",
    "        plt.barh(t, n, left=offsets[t], color=palette[r - 1])\n",
    "        \n",
    "        # Increase the offset for the next bar in the stack\n",
    "        offsets[t] += n\n",
    "\n",
    "axis.set_ylabel(\"\")\n",
    "axis.set_xlabel(\"\")\n",
    "axis.grid(False)\n",
    "axis.set(xlim=(-0.1, n_p + 0.1))\n",
    "\n",
    "plt.legend([\"1st\", \"2nd\", \"3rd\", \"4th\"], bbox_to_anchor=([0.5, 1, 0, 0]), handletextpad=0.2, columnspacing=1, loc=\"lower center\", ncol=4, frameon=False)\n",
    "\n",
    "for i in range(1, 4):\n",
    "    axis.get_legend().legendHandles[i].set_color(palette[i])"
   ]
  },
  {
   "cell_type": "markdown",
   "id": "e6c59f49-dc02-47be-8dbd-e49016510d29",
   "metadata": {},
   "source": [
    "# 3. Ease of Use Ranks"
   ]
  },
  {
   "cell_type": "code",
   "execution_count": 216,
   "id": "85fdb0a9-37fa-4d22-a256-23e590225256",
   "metadata": {},
   "outputs": [],
   "source": [
    "# Split ranks into their own columns\n",
    "p = 0\n",
    "ranks = pd.DataFrame(columns=[\"Participant\", \"Technique\", \"Rank\"])\n",
    "ranks_airtouch = []\n",
    "ranks_dwell = []\n",
    "ranks_pinch = []\n",
    "ranks_pinchany = []\n",
    "\n",
    "for row in df.RankEase:\n",
    "    p += 1\n",
    "    \n",
    "    order = row.split(\";\")[0:4]\n",
    "    \n",
    "    if p == 1:\n",
    "        order.reverse()\n",
    "    \n",
    "    # Place ranks into the `ranks` data frame\n",
    "    airtouch = pd.Series([p, \"AirTouch\", order.index(\"Touch In The Air\") + 1], index=ranks.columns)\n",
    "    dwell    = pd.Series([p, \"Dwell\", order.index(\"Dwell\") + 1], index=ranks.columns)\n",
    "    pinch    = pd.Series([p, \"Pinch\", order.index(\"Pinch on Circle\") + 1], index=ranks.columns)\n",
    "    pinchany = pd.Series([p, \"PinchAnywhere\", order.index(\"Pinch Anywhere\") + 1], index=ranks.columns)\n",
    "    \n",
    "    ranks = ranks.append(airtouch, ignore_index=True)\n",
    "    ranks = ranks.append(dwell, ignore_index=True)\n",
    "    ranks = ranks.append(pinch, ignore_index=True)\n",
    "    ranks = ranks.append(pinchany, ignore_index=True)\n",
    "    \n",
    "    # Build paired rank lists as well\n",
    "    ranks_airtouch += [order.index(\"Touch In The Air\") + 1]\n",
    "    ranks_dwell += [order.index(\"Dwell\") + 1]\n",
    "    ranks_pinch += [order.index(\"Pinch on Circle\") + 1]\n",
    "    ranks_pinchany += [order.index(\"Pinch Anywhere\") + 1]\n",
    "\n",
    "rank_counts = ranks.groupby([\"Technique\", \"Rank\"]).count().reset_index()"
   ]
  },
  {
   "cell_type": "code",
   "execution_count": 217,
   "id": "a112946a-0bb0-4f60-80a0-e55aabb7ab5a",
   "metadata": {},
   "outputs": [
    {
     "data": {
      "text/plain": [
       "FriedmanchisquareResult(statistic=6.11999999999999, pvalue=0.10591570391413119)"
      ]
     },
     "execution_count": 217,
     "metadata": {},
     "output_type": "execute_result"
    }
   ],
   "source": [
    "stats.friedmanchisquare(ranks_airtouch, ranks_dwell, ranks_pinch, ranks_pinchany)"
   ]
  },
  {
   "cell_type": "code",
   "execution_count": 218,
   "id": "273e83d0-ac81-4b68-9942-4eb77b2cfcb7",
   "metadata": {},
   "outputs": [
    {
     "data": {
      "image/png": "[encoded data removed]",
      "text/plain": [
       "<Figure size 840x360 with 1 Axes>"
      ]
     },
     "metadata": {},
     "output_type": "display_data"
    }
   ],
   "source": [
    "fig, axis = plt.subplots(1, figsize=(7, 3))\n",
    "\n",
    "offsets = {\"AirTouch\": 0, \"Dwell\": 0, \"Pinch\": 0, \"PinchAnywhere\": 0}\n",
    "\n",
    "# For ranks 1 to 4...\n",
    "for r in range(1, 5):\n",
    "    rank_data = rank_counts[rank_counts.Rank == r]\n",
    "    \n",
    "    # For each technique...\n",
    "    for t in rank_data.Technique:\n",
    "        # Count number of responses given\n",
    "        n = int(rank_data[rank_data.Technique == t].Participant)\n",
    "        \n",
    "        # Draw an offset horizontal bar\n",
    "        plt.barh(t, n, left=offsets[t], color=palette[r - 1])\n",
    "        \n",
    "        # Increase the offset for the next bar in the stack\n",
    "        offsets[t] += n\n",
    "\n",
    "axis.set_ylabel(\"\")\n",
    "axis.set_xlabel(\"\")\n",
    "axis.grid(False)\n",
    "axis.set(xlim=(-0.1, n_p + 0.1))\n",
    "\n",
    "plt.legend([\"1st\", \"2nd\", \"3rd\", \"4th\"], bbox_to_anchor=([0.5, 1, 0, 0]), handletextpad=0.2, columnspacing=1, loc=\"lower center\", ncol=4, frameon=False)\n",
    "\n",
    "for i in range(1, 4):\n",
    "    axis.get_legend().legendHandles[i].set_color(palette[i])"
   ]
  },
  {
   "cell_type": "code",
   "execution_count": null,
   "id": "21d6ce67-e906-41b3-ad68-18d9ab32e01d",
   "metadata": {},
   "outputs": [],
   "source": []
  }
 ],
 "metadata": {
  "kernelspec": {
   "display_name": "Python 3",
   "language": "python",
   "name": "python3"
  },
  "language_info": {
   "codemirror_mode": {
    "name": "ipython",
    "version": 3
   },
   "file_extension": ".py",
   "mimetype": "text/x-python",
   "name": "python",
   "nbconvert_exporter": "python",
   "pygments_lexer": "ipython3",
   "version": "3.9.4"
  }
 },
 "nbformat": 4,
 "nbformat_minor": 5
}
