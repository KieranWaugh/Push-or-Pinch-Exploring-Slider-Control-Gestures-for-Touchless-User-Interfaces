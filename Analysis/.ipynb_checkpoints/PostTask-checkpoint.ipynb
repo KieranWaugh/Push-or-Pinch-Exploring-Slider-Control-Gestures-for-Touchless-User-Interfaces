{
 "cells": [
  {
   "cell_type": "markdown",
   "id": "ed00c704-43a1-463c-a850-745d6bcfbe69",
   "metadata": {},
   "source": [
    "# Post-Block Survey"
   ]
  },
  {
   "cell_type": "code",
   "execution_count": 204,
   "id": "e61e5672-bfe3-4639-94a5-6db0c78fe7cc",
   "metadata": {},
   "outputs": [
    {
     "name": "stdout",
     "output_type": "stream",
     "text": [
      "env: OUTDATED_IGNORE=1\n"
     ]
    }
   ],
   "source": [
    "import glob\n",
    "import matplotlib.pyplot as plt\n",
    "import numpy as np\n",
    "import pandas as pd\n",
    "import pingouin as pg\n",
    "import plot_likert\n",
    "import scikit_posthocs as ph\n",
    "import scipy.stats as stats\n",
    "import seaborn as sns\n",
    "import math\n",
    "\n",
    "%env OUTDATED_IGNORE=1\n",
    "%run ./Plots.ipynb\n",
    "\n",
    "sns.set_context(\"notebook\")\n",
    "sns.set_style(\"whitegrid\")\n",
    "\n",
    "plt.rcParams['figure.dpi'] = 120\n",
    "plt.rcParams['axes.linewidth'] = 0.5\n",
    "plt.rcParams['grid.linewidth'] = 0.5\n",
    "plt.rcParams['patch.linewidth'] = 0.0\n",
    "\n",
    "palette = sns.color_palette(\"magma\", 4)"
   ]
  },
  {
   "cell_type": "markdown",
   "id": "3fedf916-4b26-40d1-a340-36b8be806f85",
   "metadata": {},
   "source": [
    "# 1. Read Data"
   ]
  },
  {
   "cell_type": "code",
   "execution_count": 205,
   "id": "9134050b-aaf4-4385-a805-4b2843cc0c00",
   "metadata": {
    "tags": []
   },
   "outputs": [
    {
     "name": "stdout",
     "output_type": "stream",
     "text": [
      "Read data from 15 participants\n"
     ]
    }
   ],
   "source": [
    "# Read raw data\n",
    "df = pd.read_excel(\"PostTask.xlsx\")\n",
    "\n",
    "# Drop unused columns\n",
    "df.drop(df.filter(regex='Start time').columns, axis=1, inplace=True)\n",
    "df.drop(df.filter(regex='Completion time').columns, axis=1, inplace=True)\n",
    "df.drop(df.filter(regex='Email').columns, axis=1, inplace=True)\n",
    "df.drop(df.filter(regex='Name').columns, axis=1, inplace=True)\n",
    "\n",
    "# Rename columns\n",
    "df.columns = [\"Row\", \"Participant\", \"Task\", \"Technique\",\n",
    "              \"Acquire\", \"Control\", \"Move\", \"Disengage\", \"Satisfaction\", \"Retain\", \"Responsive\",\n",
    "              \"TLX_Mental\", \"TLX_Physical\", \"TLX_Temporal\", \"TLX_Performance\", \"TLX_Effort\", \"TLX_Frustration\"]\n",
    "\n",
    "# Replace Likert scale text with numbers\n",
    "df.replace({\"Very Strongly Disagree\": 1, \"Strongly Disagree\": 2, \"Disagree\": 3, \"Neither Agree or Disagree\": 4,\n",
    "           \"Agree\": 5, \"Strongly Agree\": 6, \"Very Strongly Agree\": 7}, inplace=True)\n",
    "\n",
    "# Replace condition and task names\n",
    "df.replace({\"Touch In The Air\": \"AirTouch\", \"Pinch On Circle\": \"Pinch\", \"Pinch Anywhere\": \"PinchAnywhere\"}, inplace=True)\n",
    "df.replace({\"Digit Selector\": \"Digit\", \"Letter Selector\": \"Letter\", \"Shape Scaler\": \"Shape\"}, inplace=True)\n",
    "\n",
    "# Calculate total task-load index\n",
    "df[\"TLX\"] = (df.TLX_Mental + df.TLX_Physical + df.TLX_Temporal + df.TLX_Performance + df.TLX_Effort + df.TLX_Frustration) / 60.0 * 100\n",
    "\n",
    "df = df[df[\"Participant\"] > 4]\n",
    "\n",
    "n = len(df.Participant.unique())\n",
    "\n",
    "print(\"Read data from {} participants\".format(n,))"
   ]
  },
  {
   "cell_type": "code",
   "execution_count": 206,
   "id": "2c0bd234-56d3-482f-949e-a25abd0d8d16",
   "metadata": {},
   "outputs": [],
   "source": [
    "def confidence(dataframe, group):\n",
    "    group = dataframe[group]\n",
    "    upper = group.mean() + 1.96 * (group.std()/math.sqrt(group.count()))\n",
    "    lower = group.mean() - 1.96 * (group.std()/math.sqrt(group.count()))\n",
    "    return \"Mean: \" + str(group.mean()) + \", StDev: \" + str(group.std()) + \", 95% confidence: [\" + str(lower) + \", \" + str(upper) + \"]\""
   ]
  },
  {
   "cell_type": "markdown",
   "id": "4a78ea18-193a-4bbe-8755-40b8223b314d",
   "metadata": {},
   "source": [
    "# 2. TLX\n"
   ]
  },
  {
   "cell_type": "code",
   "execution_count": 207,
   "id": "7852bc5d-215c-4527-b1c3-20d89d02eb88",
   "metadata": {},
   "outputs": [],
   "source": [
    "# Aggregate mean TLX data per participant\n",
    "df_tlx = df.groupby([\"Participant\", \"Technique\"]).aggregate({\"TLX\": \"mean\",\n",
    "                                                  \"TLX_Mental\": \"mean\",\n",
    "                                                  \"TLX_Physical\": \"mean\",\n",
    "                                                  \"TLX_Temporal\": \"mean\",\n",
    "                                                  \"TLX_Performance\": \"mean\",\n",
    "                                                  \"TLX_Effort\": \"mean\",\n",
    "                                                  \"TLX_Frustration\": \"mean\"}).reset_index()\n",
    "\n",
    "# Create separate arrays for each technique\n",
    "df_airtouch = df_tlx[df_tlx['Technique'] == \"AirTouch\"]\n",
    "df_dwell    = df_tlx[df_tlx['Technique'] == \"Dwell\"]\n",
    "df_pinch    = df_tlx[df_tlx['Technique'] == \"Pinch\"]\n",
    "df_pinchany = df_tlx[df_tlx['Technique'] == \"PinchAnywhere\"]"
   ]
  },
  {
   "cell_type": "markdown",
   "id": "e2030dd7-2cc7-4e36-8ffa-40d23b37bc92",
   "metadata": {},
   "source": [
    "## 2.1 Plot TLX Data"
   ]
  },
  {
   "cell_type": "code",
   "execution_count": 208,
   "id": "9612d69b-d935-42c2-b0f4-df73a5b67069",
   "metadata": {},
   "outputs": [
    {
     "ename": "TypeError",
     "evalue": "stripplot() missing 1 required positional argument: 'n_iv'",
     "output_type": "error",
     "traceback": [
      "\u001b[0;31m---------------------------------------------------------------------------\u001b[0m",
      "\u001b[0;31mTypeError\u001b[0m                                 Traceback (most recent call last)",
      "\u001b[0;32m<ipython-input-208-d8e1f1ebc7c2>\u001b[0m in \u001b[0;36m<module>\u001b[0;34m\u001b[0m\n\u001b[0;32m----> 1\u001b[0;31m \u001b[0mplot_tlx\u001b[0m\u001b[0;34m,\u001b[0m \u001b[0maxis\u001b[0m \u001b[0;34m=\u001b[0m \u001b[0mstripplot\u001b[0m\u001b[0;34m(\u001b[0m\u001b[0mdf_tlx\u001b[0m\u001b[0;34m,\u001b[0m \u001b[0miv\u001b[0m\u001b[0;34m=\u001b[0m\u001b[0;34m\"Technique\"\u001b[0m\u001b[0;34m,\u001b[0m \u001b[0mdv\u001b[0m\u001b[0;34m=\u001b[0m\u001b[0;34m\"TLX\"\u001b[0m\u001b[0;34m,\u001b[0m \u001b[0msize\u001b[0m\u001b[0;34m=\u001b[0m\u001b[0;34m(\u001b[0m\u001b[0;36m7\u001b[0m\u001b[0;34m,\u001b[0m \u001b[0;36m1.5\u001b[0m\u001b[0;34m)\u001b[0m\u001b[0;34m,\u001b[0m \u001b[0mshow_all\u001b[0m\u001b[0;34m=\u001b[0m\u001b[0;32mFalse\u001b[0m\u001b[0;34m,\u001b[0m \u001b[0mxlab\u001b[0m\u001b[0;34m=\u001b[0m\u001b[0;34m\"Task-Load Index\"\u001b[0m\u001b[0;34m,\u001b[0m \u001b[0mhide_legend\u001b[0m\u001b[0;34m=\u001b[0m\u001b[0;32mFalse\u001b[0m\u001b[0;34m)\u001b[0m\u001b[0;34m\u001b[0m\u001b[0;34m\u001b[0m\u001b[0m\n\u001b[0m\u001b[1;32m      2\u001b[0m \u001b[0maxis\u001b[0m\u001b[0;34m.\u001b[0m\u001b[0mset\u001b[0m\u001b[0;34m(\u001b[0m\u001b[0mxlim\u001b[0m\u001b[0;34m=\u001b[0m\u001b[0;34m(\u001b[0m\u001b[0;36m0\u001b[0m\u001b[0;34m,\u001b[0m \u001b[0;36m100\u001b[0m\u001b[0;34m)\u001b[0m\u001b[0;34m)\u001b[0m\u001b[0;34m\u001b[0m\u001b[0;34m\u001b[0m\u001b[0m\n\u001b[1;32m      3\u001b[0m \u001b[0;34m\u001b[0m\u001b[0m\n\u001b[1;32m      4\u001b[0m \u001b[0mplot_tlx\u001b[0m\u001b[0;34m.\u001b[0m\u001b[0msavefig\u001b[0m\u001b[0;34m(\u001b[0m\u001b[0;34m\"Plots/TLX-Technique.pdf\"\u001b[0m\u001b[0;34m,\u001b[0m \u001b[0mbbox_inches\u001b[0m\u001b[0;34m=\u001b[0m\u001b[0;34m'tight'\u001b[0m\u001b[0;34m)\u001b[0m\u001b[0;34m\u001b[0m\u001b[0;34m\u001b[0m\u001b[0m\n",
      "\u001b[0;31mTypeError\u001b[0m: stripplot() missing 1 required positional argument: 'n_iv'"
     ]
    }
   ],
   "source": [
    "plot_tlx, axis = stripplot(df_tlx, iv=\"Technique\", dv=\"TLX\", n_iv=4, size=(7, 1.5), show_all=False, xlab=\"Task-Load Index\", hide_legend=False)\n",
    "axis.set(xlim=(0, 100))\n",
    "\n",
    "plot_tlx.savefig(\"Plots/TLX-Technique.pdf\", bbox_inches='tight')"
   ]
  },
  {
   "cell_type": "code",
   "execution_count": null,
   "id": "d58de31e-a9f8-4b86-a2b9-2adb7e5a7230",
   "metadata": {},
   "outputs": [],
   "source": [
    "plot, axis = barplot_one_factor(df_tlx, iv=\"Technique\", dv=\"TLX\")\n",
    "axis.set(xlim=(0, 100))"
   ]
  },
  {
   "cell_type": "code",
   "execution_count": null,
   "id": "e333ce24-7ab2-4e5e-b495-8e70502048ca",
   "metadata": {},
   "outputs": [],
   "source": [
    "plot, axis = barplot_two_factor(df, iv1=\"Task\", iv2=\"Technique\", dv=\"TLX\", xlab=\"Task-Load Index\", hide_grid=True, hide_legend=False, size=(7, 4))\n",
    "axis.set(xlim=(0, 100))\n",
    "axis.legend(handletextpad=0.5, columnspacing=1, loc=\"lower center\", ncol=4, frameon=False, bbox_to_anchor=(0.493, -0.3))"
   ]
  },
  {
   "cell_type": "markdown",
   "id": "b7ba03d6-b7a2-4c76-b9c9-0f8d75c100a9",
   "metadata": {},
   "source": [
    "## 2.2 TLX Analysis"
   ]
  },
  {
   "cell_type": "code",
   "execution_count": null,
   "id": "4928294b-a03c-43ff-852e-6c9363425eda",
   "metadata": {},
   "outputs": [],
   "source": [
    "def friedman(iv=\"Technique\", dv=\"TLX\"):\n",
    "    \"\"\"\n",
    "    Performs a friedman test and, if relevant, post hoc comparisons.\n",
    "    \n",
    "    Params:\n",
    "        dv: Column containing values for comparison.\n",
    "    \"\"\"\n",
    "    result     = stats.friedmanchisquare(df_airtouch[dv], df_dwell[dv], df_pinch[dv], df_pinchany[dv])\n",
    "    result_str = friedman_to_LaTeX(result)\n",
    "    \n",
    "    print(dv + \"\\n\" + result_str + \"\\n\")\n",
    "    \n",
    "    if result[1] < 0.05:\n",
    "        ph_result     = ph.posthoc_nemenyi_friedman(df_tlx, y_col=dv, group_col=iv, block_col=\"Participant\", melted=True)\n",
    "        ph_result_str = nemenyi_to_LaTeX(ph_result)\n",
    "        print(ph_result)\n",
    "        print(ph_result_str)"
   ]
  },
  {
   "cell_type": "code",
   "execution_count": null,
   "id": "d78f0159-7e36-4518-ad5f-d620ecede392",
   "metadata": {},
   "outputs": [],
   "source": [
    "confidence(df_tlx, \"TLX\")"
   ]
  },
  {
   "cell_type": "code",
   "execution_count": null,
   "id": "a47bc4cb-bcd5-48ea-bb9f-ad18bf986d64",
   "metadata": {},
   "outputs": [],
   "source": [
    "friedman(iv=\"Technique\", dv=\"TLX\")\n",
    "friedman(iv=\"Technique\", dv=\"TLX_Mental\")\n",
    "friedman(iv=\"Technique\", dv=\"TLX_Physical\")\n",
    "friedman(iv=\"Technique\", dv=\"TLX_Temporal\")\n",
    "friedman(iv=\"Technique\", dv=\"TLX_Performance\")\n",
    "friedman(iv=\"Technique\", dv=\"TLX_Effort\")\n",
    "friedman(iv=\"Technique\", dv=\"TLX_Frustration\")"
   ]
  },
  {
   "cell_type": "markdown",
   "id": "0c24458c-bdfb-4457-9718-ee8bc51aa2a3",
   "metadata": {},
   "source": [
    "# 3. Likert scales"
   ]
  },
  {
   "cell_type": "code",
   "execution_count": null,
   "id": "01e7eac0-6f9c-4e3a-903f-bd0b006b584b",
   "metadata": {},
   "outputs": [],
   "source": [
    "# Aggregate survey responses per participant - take median across the different tasks\n",
    "df_likert = df.groupby([\"Participant\", \"Technique\"]).aggregate({\"Acquire\": \"median\", \"Control\": \"median\", \"Move\": \"median\", \"Disengage\": \"median\", \"Satisfaction\": \"median\", \"Retain\": \"median\", \"Responsive\": \"median\"}).reset_index()\n",
    "\n",
    "# Create separate arrays for each technique\n",
    "df_airtouch = df_likert[df_likert['Technique'] == \"AirTouch\"]\n",
    "df_dwell    = df_likert[df_likert['Technique'] == \"Dwell\"]\n",
    "df_pinch    = df_likert[df_likert['Technique'] == \"Pinch\"]\n",
    "df_pinchany = df_likert[df_likert['Technique'] == \"PinchAnywhere\"]\n",
    "\n",
    "# Initialise render parameters for the Likert plots\n",
    "plt.rcParams['patch.linewidth'] = 0.0\n",
    "plt.rcParams['lines.linewidth'] = 1.0\n",
    "\n",
    "# Set up Likert plot values\n",
    "scale_labels = [\"1 Strongly Disagree\", \"2 Disagree\", \"3 Slightly Disagree\", \"4 Neutral\", \"5 Slightly Agree\", \"6 Agree\", \"7 Strongly Agree\"]\n",
    "likert_palette = [(1., 1., 1., 0.)] + sns.color_palette(\"magma\", 7)\n",
    "questions = [\"Acquire\", \"Control\", \"Move\", \"Disengage\", \"Satisfaction\", \"Retain\", \"Responsive\"]"
   ]
  },
  {
   "cell_type": "code",
   "execution_count": null,
   "id": "f7c2a910-6820-41d3-bda1-8223f9f94e49",
   "metadata": {},
   "outputs": [],
   "source": []
  },
  {
   "cell_type": "markdown",
   "id": "337546fc-9c0b-4e15-aee1-a405d1998166",
   "metadata": {},
   "source": [
    "## 3.1 Air Touch"
   ]
  },
  {
   "cell_type": "code",
   "execution_count": null,
   "id": "4c26ec0d-0911-47d9-803c-0ec84b1b61f3",
   "metadata": {},
   "outputs": [],
   "source": [
    "axis = plot_likert.plot_likert(df_airtouch[questions], [1, 2, 3, 4, 5, 6, 7], plot_percentage=False, colors=likert_palette, figsize=(8, 5));\n",
    "axis.grid(False)\n",
    "handles, _ = axis.get_legend_handles_labels()\n",
    "axis.legend(handles, scale_labels, handletextpad=0.2, columnspacing=0.8, loc=\"center right\", ncol=1, frameon=False, bbox_to_anchor=(1.31, 0.5))"
   ]
  },
  {
   "cell_type": "code",
   "execution_count": null,
   "id": "3807cef3-0b74-4e06-878c-89206b2d5d12",
   "metadata": {},
   "outputs": [],
   "source": [
    "df_airtouch[questions].mean()\n"
   ]
  },
  {
   "cell_type": "code",
   "execution_count": null,
   "id": "9bf6c4de-8480-4dd4-8908-c08e409fe84f",
   "metadata": {},
   "outputs": [],
   "source": [
    "df_airtouch[questions].std()"
   ]
  },
  {
   "cell_type": "code",
   "execution_count": null,
   "id": "b84f0459-a295-4888-b5d3-9ff64fc0d493",
   "metadata": {},
   "outputs": [],
   "source": [
    "questions = [\"Acquire\", \"Control\", \"Move\", \"Disengage\", \"Satisfaction\", \"Retain\", \"Responsive\"]\n",
    "for q in questions:\n",
    "    print(confidence(df_airtouch[questions], q))\n"
   ]
  },
  {
   "cell_type": "markdown",
   "id": "eefd79fa-e93d-49ae-ad7a-f2fdc218e385",
   "metadata": {},
   "source": [
    "## 3.2 Dwell"
   ]
  },
  {
   "cell_type": "code",
   "execution_count": null,
   "id": "c8bb8b08-fcb5-4736-b18a-e41f61581a3c",
   "metadata": {},
   "outputs": [],
   "source": [
    "axis = plot_likert.plot_likert(df_dwell[questions], [1, 2, 3, 4, 5, 6, 7], plot_percentage=False, colors=likert_palette, figsize=(8, 5));\n",
    "axis.grid(False)\n",
    "handles, _ = axis.get_legend_handles_labels()\n",
    "axis.legend(handles, scale_labels, handletextpad=0.2, columnspacing=0.8, loc=\"center right\", ncol=1, frameon=False, bbox_to_anchor=(1.31, 0.5))"
   ]
  },
  {
   "cell_type": "code",
   "execution_count": null,
   "id": "196451e7-1872-49d2-9cc7-5e24e9742585",
   "metadata": {
    "tags": []
   },
   "outputs": [],
   "source": [
    "questions = [\"Acquire\", \"Control\", \"Move\", \"Disengage\", \"Satisfaction\", \"Retain\", \"Responsive\"]\n",
    "for q in questions:\n",
    "    print(confidence(df_dwell[questions], q))\n"
   ]
  },
  {
   "cell_type": "code",
   "execution_count": null,
   "id": "f6a09aca-a311-4661-b7d5-c84b78946af8",
   "metadata": {},
   "outputs": [],
   "source": [
    "df_dwell[questions].std()"
   ]
  },
  {
   "cell_type": "markdown",
   "id": "3a5cfbc7-9790-4bb6-b0f5-fa0a444513bf",
   "metadata": {},
   "source": [
    "## 3.3 Pinch"
   ]
  },
  {
   "cell_type": "code",
   "execution_count": null,
   "id": "8f288299-f3b1-43dd-bd26-d023a10a3542",
   "metadata": {},
   "outputs": [],
   "source": [
    "axis = plot_likert.plot_likert(df_pinch[questions], [1, 2, 3, 4, 5, 6, 7], plot_percentage=False, colors=likert_palette, figsize=(8, 5));\n",
    "axis.grid(False)\n",
    "handles, _ = axis.get_legend_handles_labels()\n",
    "axis.legend(handles, scale_labels, handletextpad=0.2, columnspacing=0.8, loc=\"center right\", ncol=1, frameon=False, bbox_to_anchor=(1.31, 0.5))"
   ]
  },
  {
   "cell_type": "markdown",
   "id": "ea5693a8-d891-447a-b869-9ae2706ebed2",
   "metadata": {
    "jp-MarkdownHeadingCollapsed": true,
    "tags": []
   },
   "source": []
  },
  {
   "cell_type": "code",
   "execution_count": null,
   "id": "648bcc47-e4fc-410a-a094-205e5b99e6e3",
   "metadata": {},
   "outputs": [],
   "source": [
    "questions = [\"Acquire\", \"Control\", \"Move\", \"Disengage\", \"Satisfaction\", \"Retain\", \"Responsive\"]\n",
    "for q in questions:\n",
    "    print(confidence(df_pinch[questions], q))"
   ]
  },
  {
   "cell_type": "markdown",
   "id": "e1ef8bcd-1ca8-4a0a-b7b2-8c2e08251368",
   "metadata": {},
   "source": [
    "## 3.4 Pinch Anywhere"
   ]
  },
  {
   "cell_type": "code",
   "execution_count": null,
   "id": "62ed7dcf-f0e3-411a-b820-2117324154b3",
   "metadata": {},
   "outputs": [],
   "source": [
    "axis = plot_likert.plot_likert(df_pinchany[questions], [1, 2, 3, 4, 5, 6, 7], plot_percentage=False, colors=likert_palette, figsize=(8, 5));\n",
    "axis.grid(False)\n",
    "handles, _ = axis.get_legend_handles_labels()\n",
    "axis.legend(handles, scale_labels, handletextpad=0.2, columnspacing=0.8, loc=\"center right\", ncol=1, frameon=False, bbox_to_anchor=(1.31, 0.5))"
   ]
  },
  {
   "cell_type": "code",
   "execution_count": null,
   "id": "ae6f6c7c-2126-46f4-b3f5-62b397136f10",
   "metadata": {},
   "outputs": [],
   "source": []
  },
  {
   "cell_type": "code",
   "execution_count": null,
   "id": "3273cd39-c5da-485f-95e8-35463c109396",
   "metadata": {},
   "outputs": [],
   "source": [
    "questions = [\"Acquire\", \"Control\", \"Move\", \"Disengage\", \"Satisfaction\", \"Retain\", \"Responsive\"]\n",
    "for q in questions:\n",
    "    print(confidence(df_pinchany[questions], q))"
   ]
  },
  {
   "cell_type": "markdown",
   "id": "1e6eb9f2-6b75-4cb8-9ae3-f0d1ed5539d9",
   "metadata": {},
   "source": [
    "#### "
   ]
  }
 ],
 "metadata": {
  "kernelspec": {
   "display_name": "Python 3",
   "language": "python",
   "name": "python3"
  },
  "language_info": {
   "codemirror_mode": {
    "name": "ipython",
    "version": 3
   },
   "file_extension": ".py",
   "mimetype": "text/x-python",
   "name": "python",
   "nbconvert_exporter": "python",
   "pygments_lexer": "ipython3",
   "version": "3.9.4"
  }
 },
 "nbformat": 4,
 "nbformat_minor": 5
}
