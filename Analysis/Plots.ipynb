{
 "cells": [
  {
   "cell_type": "markdown",
   "id": "c606d0ab-d2c9-4073-b1ae-82ec2a2891bf",
   "metadata": {},
   "source": [
    "# Euan's Plotting and Formatting Functions\n",
    "\n",
    "This notebook has a collection of functions for plotting pandas data and for formatting statistical test result output in LaTeX markup.\n",
    "\n",
    "Euan Freeman (euan.freeman@glasgow.ac.uk)"
   ]
  },
  {
   "cell_type": "code",
   "execution_count": 1,
   "id": "b7fe4685-9e45-4811-824c-cd90403cf2e1",
   "metadata": {
    "tags": []
   },
   "outputs": [],
   "source": [
    "import matplotlib.pyplot as plt\n",
    "import pandas as pd\n",
    "import seaborn as sns\n",
    "\n",
    "sns.set_context(\"notebook\")\n",
    "sns.set_style(\"whitegrid\")\n",
    "\n",
    "plt.rcParams['figure.dpi'] = 300\n",
    "plt.rcParams['axes.linewidth'] = 0.5\n",
    "plt.rcParams['grid.linewidth'] = 0.5\n",
    "plt.rcParams['patch.linewidth'] = 0.0"
   ]
  },
  {
   "cell_type": "code",
   "execution_count": 2,
   "id": "2fee1904-2a3e-4d72-a821-c78b5fae920e",
   "metadata": {},
   "outputs": [],
   "source": [
    "def barplot_one_factor(df, iv, dv, ci=95, xlab=\"\", ylab=\"\", xlim=None, hide_legend=True, hide_grid=True, size=(6, 1.3), palette=\"magma\"):\n",
    "    \"\"\"\n",
    "    Creates a horizontal barplot for one categorical variable.\n",
    "    \n",
    "    Args:\n",
    "        df:          Data frame in long format.\n",
    "        iv:          Independent variable for the y-axis category.\n",
    "        dv:          Dependent variable to plot on the x-axis.\n",
    "        ci:          Confidence interval size.\n",
    "        xlab:        The x-axis label.\n",
    "        ylab:        The y-axis label.\n",
    "        hide_legend: If true, hides the legend.\n",
    "        hide_grid:   If true, hides the background grid.\n",
    "        size:        Plot size as a tuple.\n",
    "        palette:     Colour palette.\n",
    "    \n",
    "    Returns:\n",
    "        (plot, axis) tuple.\n",
    "    \"\"\"\n",
    "    plot, axis = plt.subplots(figsize=size)\n",
    "    sns.barplot(data=df, x=dv, y=iv, palette=palette, dodge=True, ci=ci, errwidth=1, capsize=.4)\n",
    "    \n",
    "    if hide_legend:\n",
    "        plt.legend([],[], frameon=False)\n",
    "\n",
    "    axis.set_ylabel(ylab)\n",
    "    axis.set_xlabel(xlab)\n",
    "    axis.grid(not hide_grid)\n",
    "    \n",
    "    if xlim is not None:\n",
    "        plt.xlim(xlim)\n",
    "    \n",
    "    return (plot, axis)"
   ]
  },
  {
   "cell_type": "code",
   "execution_count": 8,
   "id": "09e251a4-c213-40f7-a033-73b3f9e5356f",
   "metadata": {},
   "outputs": [],
   "source": [
    "def barplot_two_factor(df, iv1, iv2, dv, ci=95, xlab=\"\", ylab=\"\", hide_legend=True, hide_grid=True, size=(6, 3), palette=\"magma\"):\n",
    "    \"\"\"\n",
    "    Creates a horizontal barplot for two categorical variables.\n",
    "    \n",
    "    Args:\n",
    "        df:          Data frame in long format.\n",
    "        iv1:         Independent variable for y-axis category.\n",
    "        iv2:         Independent variable for bar colour.\n",
    "        dv:          Dependent variable to plot on the x-axis.\n",
    "        ci:          Confidence interval size.\n",
    "        xlab:        The x-axis label.\n",
    "        ylab:        The y-axis label.\n",
    "        hide_legend: If true, hides the legend.\n",
    "        hide_grid:   If true, hides the background grid.\n",
    "        size:        Plot size as a tuple.\n",
    "        palette:     Colour palette.\n",
    "    \n",
    "    Returns:\n",
    "        (plot, axis) tuple.\n",
    "    \"\"\"\n",
    "    plot, axis = plt.subplots(figsize=size)\n",
    "    \n",
    "    sns.barplot(data=df, x=dv, y=iv1, hue=iv2, palette=palette, ci=ci, errwidth=1, capsize=.1)\n",
    "    \n",
    "    if hide_legend:\n",
    "        plt.legend([],[], frameon=False)\n",
    "    else:\n",
    "        axis.legend(handletextpad=0.5, columnspacing=1, loc=\"lower center\", ncol=2, frameon=False, bbox_to_anchor=(0.493, -0.5))\n",
    "    \n",
    "    axis.set_ylabel(ylab)\n",
    "    axis.set_xlabel(xlab)\n",
    "    axis.grid(not hide_grid)\n",
    "    \n",
    "    return (plot, axis)"
   ]
  },
  {
   "cell_type": "code",
   "execution_count": 6,
   "id": "40451765-fe88-4f18-a88f-543c75977c3f",
   "metadata": {},
   "outputs": [],
   "source": [
    "def stripplot(df, iv, dv, ci=95, xlab=\"\", ylab=\"\", hide_legend=True, hide_grid=True, size=(8, 2), palette=\"magma\"):\n",
    "    \"\"\"\n",
    "    Creates a horizontal strip plot with confidence intervals.\n",
    "    \"\"\"\n",
    "    plot, axis = plt.subplots(figsize=size)\n",
    "    sns.stripplot(x=dv, y=iv, data=df, palette=palette, dodge=True, size=6, alpha=0.2, jitter=True)\n",
    "    sns.pointplot(x=dv, y=iv, data=df, palette=palette, dodge=.4, scale=1.5, ci=ci, errwidth=1.2)\n",
    "\n",
    "    if hide_legend:\n",
    "        plt.legend([],[], frameon=False)\n",
    "\n",
    "    axis.set_ylabel(ylab)\n",
    "    axis.set_xlabel(xlab)\n",
    "    axis.grid(not hide_grid)\n",
    "    \n",
    "    return (plot, axis)"
   ]
  },
  {
   "cell_type": "code",
   "execution_count": 12,
   "id": "9ec4fedb-23c7-4b93-99cc-62460f89c5e1",
   "metadata": {},
   "outputs": [],
   "source": [
    "def friedman_to_LaTeX(result):\n",
    "    \"\"\"\n",
    "    Formats the given Friedman's test result as a LaTeX string.\n",
    "    \"\"\"\n",
    "    symbol = \"<\" if result[1] < 0.001 else \"=\"\n",
    "    p_val = \".001\" if result[1] < 0.001 else \"{:.3f}\".format(result[1])\n",
    "    \n",
    "    return \"$\\chi^2 = {:.2f}, p {} {}$\".format(result[0], symbol, p_val)"
   ]
  },
  {
   "cell_type": "code",
   "execution_count": null,
   "id": "10e853a1-532b-4c85-9e74-63876fdf59ad",
   "metadata": {},
   "outputs": [],
   "source": [
    "def nemenyi_to_LaTeX(result):\n",
    "    \"\"\"\n",
    "    Formats the given Nemenyi test results as a LateX string.\n",
    "    \"\"\"\n",
    "    result_str = \"\"\n",
    "    \n",
    "    i = 0\n",
    "    j = 0\n",
    "    \n",
    "    for row in result.iteritems():\n",
    "        condition = row[0]\n",
    "        \n",
    "        for p_val in row[1]:\n",
    "            if j >= i and p_val < 0.05:\n",
    "                result_str += \"{} vs {} p = {:.3f}\\n\".format(condition, result.columns[j], p_val)\n",
    "            \n",
    "            j += 1\n",
    "        \n",
    "        i += 1\n",
    "        j = 0\n",
    "    \n",
    "    return result_str"
   ]
  }
 ],
 "metadata": {
  "kernelspec": {
   "display_name": "Python 3",
   "language": "python",
   "name": "python3"
  },
  "language_info": {
   "codemirror_mode": {
    "name": "ipython",
    "version": 3
   },
   "file_extension": ".py",
   "mimetype": "text/x-python",
   "name": "python",
   "nbconvert_exporter": "python",
   "pygments_lexer": "ipython3",
   "version": "3.9.4"
  }
 },
 "nbformat": 4,
 "nbformat_minor": 5
}
